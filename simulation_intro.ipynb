{
 "cells": [
  {
   "cell_type": "code",
   "execution_count": 59,
   "metadata": {},
   "outputs": [
    {
     "data": {
      "text/plain": [
       "0       1\n",
       "1       2\n",
       "2       3\n",
       "3       4\n",
       "4       5\n",
       "5       6\n",
       "6       7\n",
       "7       8\n",
       "8       9\n",
       "9      10\n",
       "10     11\n",
       "11     12\n",
       "12     13\n",
       "13     14\n",
       "14     15\n",
       "15     16\n",
       "16     17\n",
       "17     18\n",
       "18     19\n",
       "19     20\n",
       "20     21\n",
       "21     22\n",
       "22     23\n",
       "23     24\n",
       "24     25\n",
       "25     26\n",
       "26     27\n",
       "27     28\n",
       "28     29\n",
       "29     30\n",
       "30     31\n",
       "31     32\n",
       "32     33\n",
       "33     34\n",
       "34     35\n",
       "35     36\n",
       "36     37\n",
       "37     38\n",
       "38     39\n",
       "39     40\n",
       "40     41\n",
       "41     42\n",
       "42     43\n",
       "43     44\n",
       "44     45\n",
       "45     46\n",
       "46     47\n",
       "47     48\n",
       "48     49\n",
       "49     50\n",
       "50     51\n",
       "51     52\n",
       "52     53\n",
       "53     54\n",
       "54     55\n",
       "55     56\n",
       "56     57\n",
       "57     58\n",
       "58     59\n",
       "59     60\n",
       "60     61\n",
       "61     62\n",
       "62     63\n",
       "63     64\n",
       "64     65\n",
       "65     66\n",
       "66     67\n",
       "67     68\n",
       "68     69\n",
       "69     70\n",
       "70     71\n",
       "71     72\n",
       "72     73\n",
       "73     74\n",
       "74     75\n",
       "75     76\n",
       "76     77\n",
       "77     78\n",
       "78     79\n",
       "79     80\n",
       "80     81\n",
       "81     82\n",
       "82     83\n",
       "83     84\n",
       "84     85\n",
       "85     86\n",
       "86     87\n",
       "87     88\n",
       "88     89\n",
       "89     90\n",
       "90     91\n",
       "91     92\n",
       "92     93\n",
       "93     94\n",
       "94     95\n",
       "95     96\n",
       "96     97\n",
       "97     98\n",
       "98     99\n",
       "99    100\n",
       "dtype: int64"
      ]
     },
     "execution_count": 59,
     "metadata": {},
     "output_type": "execute_result"
    }
   ],
   "source": [
    "from pydataset import data\n",
    "import pandas as pd\n",
    "import numpy as np\n",
    "from math import sqrt\n",
    "\n",
    "x = np.arange(1,101)\n",
    "x = pd.Series(x)\n",
    "x"
   ]
  },
  {
   "cell_type": "code",
   "execution_count": 60,
   "metadata": {},
   "outputs": [
    {
     "data": {
      "text/plain": [
       "1"
      ]
     },
     "execution_count": 60,
     "metadata": {},
     "output_type": "execute_result"
    }
   ],
   "source": [
    "x.min()"
   ]
  },
  {
   "cell_type": "code",
   "execution_count": 61,
   "metadata": {},
   "outputs": [
    {
     "data": {
      "text/plain": [
       "100"
      ]
     },
     "execution_count": 61,
     "metadata": {},
     "output_type": "execute_result"
    }
   ],
   "source": [
    "x.max()"
   ]
  },
  {
   "cell_type": "code",
   "execution_count": 62,
   "metadata": {},
   "outputs": [
    {
     "data": {
      "text/plain": [
       "50.5"
      ]
     },
     "execution_count": 62,
     "metadata": {},
     "output_type": "execute_result"
    }
   ],
   "source": [
    "x.mean()"
   ]
  },
  {
   "cell_type": "code",
   "execution_count": 63,
   "metadata": {},
   "outputs": [
    {
     "data": {
      "text/plain": [
       "29.011491975882016"
      ]
     },
     "execution_count": 63,
     "metadata": {},
     "output_type": "execute_result"
    }
   ],
   "source": [
    "x.std()"
   ]
  },
  {
   "cell_type": "code",
   "execution_count": 64,
   "metadata": {},
   "outputs": [
    {
     "data": {
      "text/plain": [
       "50.5"
      ]
     },
     "execution_count": 64,
     "metadata": {},
     "output_type": "execute_result"
    }
   ],
   "source": [
    "x.median()"
   ]
  },
  {
   "cell_type": "code",
   "execution_count": 65,
   "metadata": {},
   "outputs": [
    {
     "data": {
      "text/plain": [
       "25.75"
      ]
     },
     "execution_count": 65,
     "metadata": {},
     "output_type": "execute_result"
    }
   ],
   "source": [
    "q1 = x.quantile(.25)\n",
    "q1"
   ]
  },
  {
   "cell_type": "code",
   "execution_count": 66,
   "metadata": {},
   "outputs": [
    {
     "data": {
      "text/plain": [
       "50.5"
      ]
     },
     "execution_count": 66,
     "metadata": {},
     "output_type": "execute_result"
    }
   ],
   "source": [
    "q2 = x.quantile(.50)\n",
    "q2"
   ]
  },
  {
   "cell_type": "code",
   "execution_count": 67,
   "metadata": {},
   "outputs": [
    {
     "data": {
      "text/plain": [
       "75.25"
      ]
     },
     "execution_count": 67,
     "metadata": {},
     "output_type": "execute_result"
    }
   ],
   "source": [
    "q3 = x.quantile(.75)\n",
    "q3"
   ]
  },
  {
   "cell_type": "code",
   "execution_count": 68,
   "metadata": {},
   "outputs": [
    {
     "data": {
      "text/plain": [
       "49.5"
      ]
     },
     "execution_count": 68,
     "metadata": {},
     "output_type": "execute_result"
    }
   ],
   "source": [
    "iqr = q3 - q1\n",
    "iqr"
   ]
  },
  {
   "cell_type": "code",
   "execution_count": 69,
   "metadata": {},
   "outputs": [
    {
     "data": {
      "text/plain": [
       "<AxesSubplot:>"
      ]
     },
     "execution_count": 69,
     "metadata": {},
     "output_type": "execute_result"
    },
    {
     "data": {
      "image/png": "[encoded data removed]",
      "text/plain": [
       "<Figure size 432x288 with 1 Axes>"
      ]
     },
     "metadata": {
      "needs_background": "light"
     },
     "output_type": "display_data"
    }
   ],
   "source": [
    "x.hist(bins = 100)"
   ]
  },
  {
   "cell_type": "code",
   "execution_count": 70,
   "metadata": {},
   "outputs": [],
   "source": [
    "a = pd.Series([1,2,2,3,3,3,4,4,4,4,5,5,5,5,5])"
   ]
  },
  {
   "cell_type": "code",
   "execution_count": 71,
   "metadata": {},
   "outputs": [
    {
     "data": {
      "text/plain": [
       "<AxesSubplot:>"
      ]
     },
     "execution_count": 71,
     "metadata": {},
     "output_type": "execute_result"
    },
    {
     "data": {
      "image/png": "[encoded data removed]",
      "text/plain": [
       "<Figure size 432x288 with 1 Axes>"
      ]
     },
     "metadata": {
      "needs_background": "light"
     },
     "output_type": "display_data"
    }
   ],
   "source": [
    "a.hist() # Left Skew"
   ]
  },
  {
   "cell_type": "code",
   "execution_count": 72,
   "metadata": {},
   "outputs": [
    {
     "data": {
      "text/plain": [
       "841.6666666666666"
      ]
     },
     "execution_count": 72,
     "metadata": {},
     "output_type": "execute_result"
    }
   ],
   "source": [
    "x.var()"
   ]
  },
  {
   "cell_type": "markdown",
   "metadata": {},
   "source": [
    "## How to run a simulation with python/numpy/pandas\n",
    "- Figure out a way to represent our data\n",
    "- Create a matix of random data (rows = simulations), (columns = trial)\n",
    "- Apply an aggregate function, row-wise to get the results of the sim \n",
    "- Apply a final aggreagte to get our proablity"
   ]
  },
  {
   "cell_type": "code",
   "execution_count": 184,
   "metadata": {},
   "outputs": [
    {
     "data": {
      "text/plain": [
       "0.50229"
      ]
     },
     "execution_count": 184,
     "metadata": {},
     "output_type": "execute_result"
    }
   ],
   "source": [
    "# Lets answer questions experiamentaly rather than theoretically\n",
    "# whats the probabliity of flipping Heads on  a coin? \n",
    "\n",
    "outcomes = [\"Heads\", \"Tails\"]\n",
    "number_of_simulations = 100_000\n",
    "flips = np.random.choice(outcomes, size = number_of_simulations)\n",
    "\n",
    "# After flipping 100 thousand coins, our experimental probability of flipping Heads is:\n",
    "(flips == \"Heads\").mean()"
   ]
  },
  {
   "cell_type": "code",
   "execution_count": 182,
   "metadata": {},
   "outputs": [
    {
     "data": {
      "text/plain": [
       "0.1666"
      ]
     },
     "execution_count": 182,
     "metadata": {},
     "output_type": "execute_result"
    }
   ],
   "source": [
    "# Another example \n",
    "\n",
    "#step 1 rep data outcomes \n",
    "outcomes = [1,2,3,4,5,6]\n",
    "\n",
    "#step 2 create data\n",
    "n_simulations = 10_000\n",
    "\n",
    "rolls = np.random.choice(outcomes, size = n_simulations)\n",
    "rolls\n",
    "\n",
    "# what are the chances of rolling a five? \n",
    "(rolls == 5).mean()"
   ]
  },
  {
   "cell_type": "code",
   "execution_count": 91,
   "metadata": {},
   "outputs": [
    {
     "data": {
      "text/plain": [
       "0.3275"
      ]
     },
     "execution_count": 91,
     "metadata": {},
     "output_type": "execute_result"
    }
   ],
   "source": [
    "# What is the probablity we will roll a five or a six on a six sided die?\n",
    "(rolls >= 5).mean()"
   ]
  },
  {
   "cell_type": "code",
   "execution_count": 92,
   "metadata": {},
   "outputs": [
    {
     "data": {
      "text/plain": [
       "0.3348"
      ]
     },
     "execution_count": 92,
     "metadata": {},
     "output_type": "execute_result"
    }
   ],
   "source": [
    "# What is the prob we will roll less than 3 (but not including 3)\n",
    "(rolls < 3).mean()"
   ]
  },
  {
   "cell_type": "markdown",
   "metadata": {},
   "source": [
    "## Lets roll 2 dice at once\n",
    "1. figure out a way to rep data\n",
    "2. create matrix of random data\n",
    "3. apply an agg row wise \n",
    "4. apply a final agg .mean() to get prob"
   ]
  },
  {
   "cell_type": "code",
   "execution_count": 98,
   "metadata": {},
   "outputs": [
    {
     "data": {
      "text/plain": [
       "array([[6, 3],\n",
       "       [3, 1],\n",
       "       [5, 1],\n",
       "       ...,\n",
       "       [4, 4],\n",
       "       [5, 6],\n",
       "       [6, 1]])"
      ]
     },
     "execution_count": 98,
     "metadata": {},
     "output_type": "execute_result"
    }
   ],
   "source": [
    "# what are the odds of rolling snake eyes? \n",
    "\n",
    "#Rep\n",
    "outcomes = [1,2,3,4,5,6]\n",
    "\n",
    "#Create matrix\n",
    "n_simulations = 1_000_000\n",
    "n_trials = 2 # for two die \n",
    "\n",
    "#size arguament can set sim and trial size\n",
    "rolls = np.random.choice(outcomes, size =(n_simulations, n_trials))\n",
    "rolls"
   ]
  },
  {
   "cell_type": "code",
   "execution_count": 105,
   "metadata": {},
   "outputs": [
    {
     "data": {
      "text/plain": [
       "0.027651"
      ]
     },
     "execution_count": 105,
     "metadata": {},
     "output_type": "execute_result"
    }
   ],
   "source": [
    "#apply agg row-wise\n",
    "#axis = 1 means sum across the rows axis of the columns = axis = 0\n",
    "sum_of_rolls = rolls.sum(axis=1)\n",
    "\n",
    "#probality of rolling snake eyes\n",
    "(sum_of_rolls == 2).mean()"
   ]
  },
  {
   "cell_type": "code",
   "execution_count": 106,
   "metadata": {},
   "outputs": [
    {
     "data": {
      "text/plain": [
       "0.027777777777777776"
      ]
     },
     "execution_count": 106,
     "metadata": {},
     "output_type": "execute_result"
    }
   ],
   "source": [
    "theoretical = 1/6*1/6\n",
    "theoretical"
   ]
  },
  {
   "cell_type": "code",
   "execution_count": 107,
   "metadata": {},
   "outputs": [],
   "source": [
    "# Trials = Times experamiment was generated\n",
    "# Simulation = Experiment"
   ]
  },
  {
   "cell_type": "code",
   "execution_count": 113,
   "metadata": {},
   "outputs": [
    {
     "data": {
      "text/plain": [
       "0.167"
      ]
     },
     "execution_count": 113,
     "metadata": {},
     "output_type": "execute_result"
    }
   ],
   "source": [
    "outcomes = [1,2,3,4,5,6]\n",
    "rolls = np.random.choice(outcomes, size=(10_000, 2))\n",
    "sum_of_rolls = rolls.sum(axis=1)\n",
    "sum_of_rolls\n",
    "(sum_of_rolls == 7).mean()"
   ]
  },
  {
   "cell_type": "code",
   "execution_count": 121,
   "metadata": {},
   "outputs": [
    {
     "data": {
      "text/plain": [
       "[0.1366,\n",
       " 0.0599,\n",
       " 0.1373,\n",
       " 0.085,\n",
       " 0.0799,\n",
       " 0.1373,\n",
       " 0.167,\n",
       " 0.167,\n",
       " 0.0799,\n",
       " 0.085,\n",
       " 0.167,\n",
       " 0.1366,\n",
       " 0.1366,\n",
       " 0.085,\n",
       " 0.167,\n",
       " 0.113,\n",
       " 0.1099,\n",
       " 0.1373,\n",
       " 0.1373,\n",
       " 0.0799,\n",
       " 0.1099,\n",
       " 0.0541,\n",
       " 0.113,\n",
       " 0.113,\n",
       " 0.113,\n",
       " 0.1373,\n",
       " 0.0799,\n",
       " 0.1366,\n",
       " 0.167,\n",
       " 0.1099,\n",
       " 0.167,\n",
       " 0.1373,\n",
       " 0.1366,\n",
       " 0.1099,\n",
       " 0.1099,\n",
       " 0.167,\n",
       " 0.1099,\n",
       " 0.1373,\n",
       " 0.113,\n",
       " 0.1366,\n",
       " 0.1373,\n",
       " 0.0541,\n",
       " 0.113,\n",
       " 0.1099,\n",
       " 0.1366,\n",
       " 0.1099,\n",
       " 0.0599,\n",
       " 0.1373,\n",
       " 0.0599,\n",
       " 0.1099,\n",
       " 0.0599,\n",
       " 0.1373,\n",
       " 0.1099,\n",
       " 0.1373,\n",
       " 0.1373,\n",
       " 0.1099,\n",
       " 0.167,\n",
       " 0.1366,\n",
       " 0.167,\n",
       " 0.1373,\n",
       " 0.1366,\n",
       " 0.1373,\n",
       " 0.167,\n",
       " 0.0599,\n",
       " 0.113,\n",
       " 0.0599,\n",
       " 0.1099,\n",
       " 0.1373,\n",
       " 0.167,\n",
       " 0.1099,\n",
       " 0.0541,\n",
       " 0.1366,\n",
       " 0.1366,\n",
       " 0.113,\n",
       " 0.113,\n",
       " 0.085,\n",
       " 0.1373,\n",
       " 0.1099,\n",
       " 0.167,\n",
       " 0.0599,\n",
       " 0.167,\n",
       " 0.167,\n",
       " 0.1366,\n",
       " 0.1366,\n",
       " 0.0799,\n",
       " 0.167,\n",
       " 0.113,\n",
       " 0.0799,\n",
       " 0.113,\n",
       " 0.0599,\n",
       " 0.167,\n",
       " 0.1099,\n",
       " 0.0297,\n",
       " 0.113,\n",
       " 0.085,\n",
       " 0.085,\n",
       " 0.1373,\n",
       " 0.0541,\n",
       " 0.113,\n",
       " 0.1373,\n",
       " 0.1366,\n",
       " 0.1366,\n",
       " 0.1373,\n",
       " 0.113,\n",
       " 0.167,\n",
       " 0.113,\n",
       " 0.1373,\n",
       " 0.1366,\n",
       " 0.1366,\n",
       " 0.113,\n",
       " 0.0799,\n",
       " 0.1366,\n",
       " 0.1366,\n",
       " 0.167,\n",
       " 0.085,\n",
       " 0.1373,\n",
       " 0.0541,\n",
       " 0.0541,\n",
       " 0.167,\n",
       " 0.113,\n",
       " 0.1373,\n",
       " 0.1366,\n",
       " 0.1099,\n",
       " 0.167,\n",
       " 0.085,\n",
       " 0.085,\n",
       " 0.113,\n",
       " 0.0799,\n",
       " 0.167,\n",
       " 0.085,\n",
       " 0.0799,\n",
       " 0.1099,\n",
       " 0.113,\n",
       " 0.1373,\n",
       " 0.0276,\n",
       " 0.1099,\n",
       " 0.0541,\n",
       " 0.167,\n",
       " 0.0541,\n",
       " 0.1099,\n",
       " 0.0276,\n",
       " 0.085,\n",
       " 0.167,\n",
       " 0.0599,\n",
       " 0.0541,\n",
       " 0.1373,\n",
       " 0.1373,\n",
       " 0.1366,\n",
       " 0.0799,\n",
       " 0.113,\n",
       " 0.0297,\n",
       " 0.113,\n",
       " 0.1099,\n",
       " 0.1099,\n",
       " 0.0276,\n",
       " 0.1373,\n",
       " 0.167,\n",
       " 0.113,\n",
       " 0.0599,\n",
       " 0.0799,\n",
       " 0.1366,\n",
       " 0.113,\n",
       " 0.0599,\n",
       " 0.085,\n",
       " 0.1366,\n",
       " 0.0541,\n",
       " 0.1099,\n",
       " 0.113,\n",
       " 0.0599,\n",
       " 0.167,\n",
       " 0.0276,\n",
       " 0.167,\n",
       " 0.1366,\n",
       " 0.113,\n",
       " 0.0799,\n",
       " 0.1366,\n",
       " 0.167,\n",
       " 0.0599,\n",
       " 0.1373,\n",
       " 0.085,\n",
       " 0.1366,\n",
       " 0.0799,\n",
       " 0.113,\n",
       " 0.167,\n",
       " 0.167,\n",
       " 0.167,\n",
       " 0.1373,\n",
       " 0.0799,\n",
       " 0.0276,\n",
       " 0.1366,\n",
       " 0.0297,\n",
       " 0.0599,\n",
       " 0.1366,\n",
       " 0.085,\n",
       " 0.1373,\n",
       " 0.1099,\n",
       " 0.0799,\n",
       " 0.0599,\n",
       " 0.167,\n",
       " 0.085,\n",
       " 0.1099,\n",
       " 0.113,\n",
       " 0.085,\n",
       " 0.167,\n",
       " 0.113,\n",
       " 0.167,\n",
       " 0.1099,\n",
       " 0.085,\n",
       " 0.0541,\n",
       " 0.167,\n",
       " 0.113,\n",
       " 0.167,\n",
       " 0.0799,\n",
       " 0.113,\n",
       " 0.1099,\n",
       " 0.1366,\n",
       " 0.167,\n",
       " 0.167,\n",
       " 0.167,\n",
       " 0.1099,\n",
       " 0.085,\n",
       " 0.085,\n",
       " 0.167,\n",
       " 0.1366,\n",
       " 0.167,\n",
       " 0.0541,\n",
       " 0.1099,\n",
       " 0.1366,\n",
       " 0.085,\n",
       " 0.0599,\n",
       " 0.085,\n",
       " 0.113,\n",
       " 0.167,\n",
       " 0.167,\n",
       " 0.1366,\n",
       " 0.0599,\n",
       " 0.1099,\n",
       " 0.1366,\n",
       " 0.113,\n",
       " 0.1373,\n",
       " 0.113,\n",
       " 0.085,\n",
       " 0.085,\n",
       " 0.1099,\n",
       " 0.167,\n",
       " 0.1366,\n",
       " 0.1373,\n",
       " 0.1099,\n",
       " 0.1366,\n",
       " 0.0541,\n",
       " 0.1373,\n",
       " 0.1373,\n",
       " 0.167,\n",
       " 0.113,\n",
       " 0.167,\n",
       " 0.0541,\n",
       " 0.0599,\n",
       " 0.0599,\n",
       " 0.0297,\n",
       " 0.113,\n",
       " 0.167,\n",
       " 0.167,\n",
       " 0.0599,\n",
       " 0.1099,\n",
       " 0.1373,\n",
       " 0.1099,\n",
       " 0.1366,\n",
       " 0.1373,\n",
       " 0.0799,\n",
       " 0.0276,\n",
       " 0.1366,\n",
       " 0.1373,\n",
       " 0.113,\n",
       " 0.1099,\n",
       " 0.0799,\n",
       " 0.1366,\n",
       " 0.1099,\n",
       " 0.1373,\n",
       " 0.1099,\n",
       " 0.167,\n",
       " 0.1366,\n",
       " 0.1373,\n",
       " 0.113,\n",
       " 0.167,\n",
       " 0.1373,\n",
       " 0.1099,\n",
       " 0.0297,\n",
       " 0.1099,\n",
       " 0.085,\n",
       " 0.0541,\n",
       " 0.1366,\n",
       " 0.1366,\n",
       " 0.0541,\n",
       " 0.1373,\n",
       " 0.167,\n",
       " 0.1099,\n",
       " 0.1373,\n",
       " 0.1366,\n",
       " 0.1373,\n",
       " 0.0799,\n",
       " 0.1373,\n",
       " 0.1099,\n",
       " 0.167,\n",
       " 0.1099,\n",
       " 0.085,\n",
       " 0.167,\n",
       " 0.1373,\n",
       " 0.167,\n",
       " 0.167,\n",
       " 0.1373,\n",
       " 0.0276,\n",
       " 0.0541,\n",
       " 0.1099,\n",
       " 0.1373,\n",
       " 0.1366,\n",
       " 0.1366,\n",
       " 0.0541,\n",
       " 0.167,\n",
       " 0.167,\n",
       " 0.1373,\n",
       " 0.1366,\n",
       " 0.1099,\n",
       " 0.167,\n",
       " 0.1373,\n",
       " 0.113,\n",
       " 0.1373,\n",
       " 0.1373,\n",
       " 0.167,\n",
       " 0.0297,\n",
       " 0.1099,\n",
       " 0.113,\n",
       " 0.1099,\n",
       " 0.113,\n",
       " 0.1366,\n",
       " 0.167,\n",
       " 0.1373,\n",
       " 0.113,\n",
       " 0.167,\n",
       " 0.0297,\n",
       " 0.1366,\n",
       " 0.113,\n",
       " 0.1373,\n",
       " 0.0541,\n",
       " 0.1099,\n",
       " 0.0799,\n",
       " 0.0297,\n",
       " 0.167,\n",
       " 0.0799,\n",
       " 0.1366,\n",
       " 0.167,\n",
       " 0.085,\n",
       " 0.0799,\n",
       " 0.113,\n",
       " 0.0599,\n",
       " 0.0799,\n",
       " 0.1373,\n",
       " 0.0599,\n",
       " 0.1373,\n",
       " 0.1099,\n",
       " 0.167,\n",
       " 0.0541,\n",
       " 0.1366,\n",
       " 0.0297,\n",
       " 0.1373,\n",
       " 0.1099,\n",
       " 0.113,\n",
       " 0.1366,\n",
       " 0.167,\n",
       " 0.0599,\n",
       " 0.0541,\n",
       " 0.167,\n",
       " 0.1099,\n",
       " 0.167,\n",
       " 0.0599,\n",
       " 0.167,\n",
       " 0.167,\n",
       " 0.167,\n",
       " 0.085,\n",
       " 0.113,\n",
       " 0.0799,\n",
       " 0.0276,\n",
       " 0.167,\n",
       " 0.1099,\n",
       " 0.1373,\n",
       " 0.1373,\n",
       " 0.113,\n",
       " 0.113,\n",
       " 0.1373,\n",
       " 0.167,\n",
       " 0.085,\n",
       " 0.1099,\n",
       " 0.167,\n",
       " 0.0599,\n",
       " 0.1373,\n",
       " 0.1373,\n",
       " 0.113,\n",
       " 0.0599,\n",
       " 0.1366,\n",
       " 0.0297,\n",
       " 0.1099,\n",
       " 0.113,\n",
       " 0.113,\n",
       " 0.1099,\n",
       " 0.1366,\n",
       " 0.0599,\n",
       " 0.0799,\n",
       " 0.085,\n",
       " 0.1099,\n",
       " 0.1099,\n",
       " 0.113,\n",
       " 0.1373,\n",
       " 0.1099,\n",
       " 0.0799,\n",
       " 0.0276,\n",
       " 0.167,\n",
       " 0.167,\n",
       " 0.085,\n",
       " 0.0799,\n",
       " 0.1373,\n",
       " 0.1366,\n",
       " 0.0599,\n",
       " 0.1366,\n",
       " 0.1099,\n",
       " 0.113,\n",
       " 0.1373,\n",
       " 0.167,\n",
       " 0.1366,\n",
       " 0.167,\n",
       " 0.0276,\n",
       " 0.167,\n",
       " 0.0297,\n",
       " 0.167,\n",
       " 0.085,\n",
       " 0.0541,\n",
       " 0.167,\n",
       " 0.1373,\n",
       " 0.085,\n",
       " 0.0541,\n",
       " 0.0799,\n",
       " 0.0599,\n",
       " 0.1373,\n",
       " 0.1366,\n",
       " 0.1099,\n",
       " 0.0297,\n",
       " 0.167,\n",
       " 0.1366,\n",
       " 0.0276,\n",
       " 0.113,\n",
       " 0.1373,\n",
       " 0.1373,\n",
       " 0.085,\n",
       " 0.0799,\n",
       " 0.1099,\n",
       " 0.167,\n",
       " 0.113,\n",
       " 0.1366,\n",
       " 0.1099,\n",
       " 0.085,\n",
       " 0.0599,\n",
       " 0.0799,\n",
       " 0.113,\n",
       " 0.0799,\n",
       " 0.1373,\n",
       " 0.1373,\n",
       " 0.113,\n",
       " 0.085,\n",
       " 0.167,\n",
       " 0.113,\n",
       " 0.1373,\n",
       " 0.1373,\n",
       " 0.0541,\n",
       " 0.1373,\n",
       " 0.085,\n",
       " 0.1099,\n",
       " 0.0541,\n",
       " 0.167,\n",
       " 0.1099,\n",
       " 0.0541,\n",
       " 0.085,\n",
       " 0.113,\n",
       " 0.167,\n",
       " 0.0297,\n",
       " 0.0599,\n",
       " 0.1373,\n",
       " 0.1366,\n",
       " 0.0599,\n",
       " 0.167,\n",
       " 0.1366,\n",
       " 0.113,\n",
       " 0.1366,\n",
       " 0.1099,\n",
       " 0.1373,\n",
       " 0.113,\n",
       " 0.1366,\n",
       " 0.0799,\n",
       " 0.0799,\n",
       " 0.085,\n",
       " 0.0799,\n",
       " 0.1366,\n",
       " 0.1099,\n",
       " 0.1099,\n",
       " 0.167,\n",
       " 0.1366,\n",
       " 0.1366,\n",
       " 0.167,\n",
       " 0.0541,\n",
       " 0.1373,\n",
       " 0.0541,\n",
       " 0.1373,\n",
       " 0.085,\n",
       " 0.1366,\n",
       " 0.085,\n",
       " 0.0599,\n",
       " 0.0799,\n",
       " 0.113,\n",
       " 0.167,\n",
       " 0.1366,\n",
       " 0.0799,\n",
       " 0.1373,\n",
       " 0.0799,\n",
       " 0.1099,\n",
       " 0.0276,\n",
       " 0.1099,\n",
       " 0.1373,\n",
       " 0.113,\n",
       " 0.113,\n",
       " 0.1366,\n",
       " 0.0297,\n",
       " 0.1373,\n",
       " 0.1373,\n",
       " 0.1366,\n",
       " 0.113,\n",
       " 0.167,\n",
       " 0.0276,\n",
       " 0.167,\n",
       " 0.1099,\n",
       " 0.167,\n",
       " 0.1373,\n",
       " 0.1366,\n",
       " 0.0599,\n",
       " 0.0599,\n",
       " 0.0541,\n",
       " 0.1373,\n",
       " 0.085,\n",
       " 0.0541,\n",
       " 0.167,\n",
       " 0.1373,\n",
       " 0.1366,\n",
       " 0.1099,\n",
       " 0.0799,\n",
       " 0.1099,\n",
       " 0.1366,\n",
       " 0.1373,\n",
       " 0.1373,\n",
       " 0.0599,\n",
       " 0.0599,\n",
       " 0.1099,\n",
       " 0.113,\n",
       " 0.1366,\n",
       " 0.0799,\n",
       " 0.0541,\n",
       " 0.167,\n",
       " 0.1366,\n",
       " 0.085,\n",
       " 0.1099,\n",
       " 0.1099,\n",
       " 0.0297,\n",
       " 0.1373,\n",
       " 0.1373,\n",
       " 0.1366,\n",
       " 0.085,\n",
       " 0.0799,\n",
       " 0.0541,\n",
       " 0.1366,\n",
       " 0.1373,\n",
       " 0.1373,\n",
       " 0.167,\n",
       " 0.167,\n",
       " 0.1366,\n",
       " 0.1366,\n",
       " 0.167,\n",
       " 0.0799,\n",
       " 0.167,\n",
       " 0.1099,\n",
       " 0.0599,\n",
       " 0.1373,\n",
       " 0.113,\n",
       " 0.0599,\n",
       " 0.0276,\n",
       " 0.1366,\n",
       " 0.113,\n",
       " 0.113,\n",
       " 0.167,\n",
       " 0.113,\n",
       " 0.1373,\n",
       " 0.085,\n",
       " 0.1099,\n",
       " 0.1373,\n",
       " 0.167,\n",
       " 0.0799,\n",
       " 0.167,\n",
       " 0.167,\n",
       " 0.1373,\n",
       " 0.0297,\n",
       " 0.1099,\n",
       " 0.1366,\n",
       " 0.1099,\n",
       " 0.1366,\n",
       " 0.113,\n",
       " 0.1366,\n",
       " 0.0541,\n",
       " 0.0799,\n",
       " 0.167,\n",
       " 0.085,\n",
       " 0.0599,\n",
       " 0.1099,\n",
       " 0.0799,\n",
       " 0.1099,\n",
       " 0.1373,\n",
       " 0.0541,\n",
       " 0.1099,\n",
       " 0.1366,\n",
       " 0.167,\n",
       " 0.0297,\n",
       " 0.0799,\n",
       " 0.1366,\n",
       " 0.1366,\n",
       " 0.113,\n",
       " 0.113,\n",
       " 0.1373,\n",
       " 0.167,\n",
       " 0.0599,\n",
       " 0.167,\n",
       " 0.167,\n",
       " 0.1099,\n",
       " 0.0297,\n",
       " 0.167,\n",
       " 0.167,\n",
       " 0.1366,\n",
       " 0.1373,\n",
       " 0.1366,\n",
       " 0.113,\n",
       " 0.0799,\n",
       " 0.0276,\n",
       " 0.0541,\n",
       " 0.0799,\n",
       " 0.0799,\n",
       " 0.0541,\n",
       " 0.1373,\n",
       " 0.0599,\n",
       " 0.0599,\n",
       " 0.0297,\n",
       " 0.1373,\n",
       " 0.1366,\n",
       " 0.1373,\n",
       " 0.0599,\n",
       " 0.0599,\n",
       " 0.1366,\n",
       " 0.085,\n",
       " 0.167,\n",
       " 0.1366,\n",
       " 0.0599,\n",
       " 0.1366,\n",
       " 0.167,\n",
       " 0.0541,\n",
       " 0.0276,\n",
       " 0.167,\n",
       " 0.1366,\n",
       " 0.167,\n",
       " 0.1366,\n",
       " 0.1366,\n",
       " 0.1366,\n",
       " 0.0297,\n",
       " 0.1373,\n",
       " 0.0541,\n",
       " 0.1366,\n",
       " 0.1099,\n",
       " 0.113,\n",
       " 0.1373,\n",
       " 0.167,\n",
       " 0.1373,\n",
       " 0.0799,\n",
       " 0.167,\n",
       " 0.0297,\n",
       " 0.167,\n",
       " 0.1373,\n",
       " 0.167,\n",
       " 0.0799,\n",
       " 0.0297,\n",
       " 0.167,\n",
       " 0.113,\n",
       " 0.1373,\n",
       " 0.1366,\n",
       " 0.0276,\n",
       " 0.0799,\n",
       " 0.0599,\n",
       " 0.1373,\n",
       " 0.113,\n",
       " 0.167,\n",
       " 0.1366,\n",
       " 0.167,\n",
       " 0.0276,\n",
       " 0.1373,\n",
       " 0.1373,\n",
       " 0.167,\n",
       " 0.113,\n",
       " 0.1366,\n",
       " 0.167,\n",
       " 0.167,\n",
       " 0.1373,\n",
       " 0.0799,\n",
       " 0.0276,\n",
       " 0.0541,\n",
       " 0.167,\n",
       " 0.0799,\n",
       " 0.167,\n",
       " 0.1373,\n",
       " 0.113,\n",
       " 0.0541,\n",
       " 0.0599,\n",
       " 0.0541,\n",
       " 0.1366,\n",
       " 0.1373,\n",
       " 0.1366,\n",
       " 0.1373,\n",
       " 0.0599,\n",
       " 0.0276,\n",
       " 0.113,\n",
       " 0.1366,\n",
       " 0.1099,\n",
       " 0.1099,\n",
       " 0.167,\n",
       " 0.1366,\n",
       " 0.0599,\n",
       " 0.167,\n",
       " 0.113,\n",
       " 0.113,\n",
       " 0.1373,\n",
       " 0.1373,\n",
       " 0.0799,\n",
       " 0.0276,\n",
       " 0.1366,\n",
       " 0.1099,\n",
       " 0.167,\n",
       " 0.1099,\n",
       " 0.167,\n",
       " 0.113,\n",
       " 0.0297,\n",
       " 0.1373,\n",
       " 0.167,\n",
       " 0.0799,\n",
       " 0.167,\n",
       " 0.167,\n",
       " 0.0541,\n",
       " 0.1099,\n",
       " 0.1099,\n",
       " 0.0541,\n",
       " 0.1099,\n",
       " 0.0541,\n",
       " 0.0541,\n",
       " 0.1099,\n",
       " 0.1366,\n",
       " 0.1366,\n",
       " 0.0799,\n",
       " 0.1366,\n",
       " 0.167,\n",
       " 0.085,\n",
       " 0.167,\n",
       " 0.1099,\n",
       " 0.167,\n",
       " 0.0799,\n",
       " 0.0799,\n",
       " 0.1366,\n",
       " 0.1099,\n",
       " 0.167,\n",
       " 0.167,\n",
       " 0.113,\n",
       " 0.085,\n",
       " 0.0799,\n",
       " 0.167,\n",
       " 0.085,\n",
       " 0.1099,\n",
       " 0.167,\n",
       " 0.0297,\n",
       " 0.0599,\n",
       " 0.1366,\n",
       " 0.085,\n",
       " 0.113,\n",
       " 0.1099,\n",
       " 0.1373,\n",
       " 0.1366,\n",
       " 0.0799,\n",
       " 0.0297,\n",
       " 0.085,\n",
       " 0.167,\n",
       " 0.167,\n",
       " 0.0799,\n",
       " 0.0599,\n",
       " 0.085,\n",
       " 0.1373,\n",
       " 0.1099,\n",
       " 0.085,\n",
       " 0.167,\n",
       " 0.0541,\n",
       " 0.0276,\n",
       " 0.113,\n",
       " 0.167,\n",
       " 0.167,\n",
       " 0.1366,\n",
       " 0.1366,\n",
       " 0.167,\n",
       " 0.0276,\n",
       " 0.1366,\n",
       " 0.0799,\n",
       " 0.1373,\n",
       " 0.167,\n",
       " 0.1373,\n",
       " 0.0541,\n",
       " 0.167,\n",
       " 0.1366,\n",
       " 0.167,\n",
       " 0.1099,\n",
       " 0.1099,\n",
       " 0.167,\n",
       " 0.1373,\n",
       " 0.113,\n",
       " 0.1366,\n",
       " 0.113,\n",
       " 0.1366,\n",
       " 0.0276,\n",
       " 0.0541,\n",
       " 0.0599,\n",
       " 0.1373,\n",
       " 0.167,\n",
       " 0.1373,\n",
       " 0.1366,\n",
       " 0.0799,\n",
       " 0.1366,\n",
       " 0.0276,\n",
       " 0.113,\n",
       " 0.167,\n",
       " 0.0799,\n",
       " 0.085,\n",
       " 0.1366,\n",
       " 0.0599,\n",
       " 0.1366,\n",
       " 0.085,\n",
       " 0.1099,\n",
       " 0.0799,\n",
       " 0.167,\n",
       " 0.1366,\n",
       " 0.1099,\n",
       " 0.1373,\n",
       " 0.113,\n",
       " 0.0297,\n",
       " 0.113,\n",
       " 0.1099,\n",
       " 0.1373,\n",
       " 0.167,\n",
       " 0.1373,\n",
       " 0.1099,\n",
       " 0.1373,\n",
       " 0.085,\n",
       " 0.1366,\n",
       " 0.167,\n",
       " 0.1099,\n",
       " 0.1099,\n",
       " 0.1099,\n",
       " 0.0297,\n",
       " 0.0541,\n",
       " 0.085,\n",
       " 0.085,\n",
       " 0.1366,\n",
       " 0.0599,\n",
       " 0.113,\n",
       " 0.113,\n",
       " 0.113,\n",
       " 0.0599,\n",
       " 0.1366,\n",
       " 0.113,\n",
       " 0.1366,\n",
       " 0.085,\n",
       " 0.1366,\n",
       " 0.1366,\n",
       " 0.1366,\n",
       " 0.1366,\n",
       " 0.0599,\n",
       " 0.1373,\n",
       " 0.1366,\n",
       " 0.113,\n",
       " 0.085,\n",
       " 0.1366,\n",
       " 0.1373,\n",
       " 0.1373,\n",
       " 0.085,\n",
       " 0.085,\n",
       " 0.0541,\n",
       " 0.167,\n",
       " 0.0541,\n",
       " 0.1366,\n",
       " 0.1366,\n",
       " 0.113,\n",
       " 0.113,\n",
       " 0.085,\n",
       " 0.113,\n",
       " 0.167,\n",
       " 0.113,\n",
       " 0.1099,\n",
       " 0.1099,\n",
       " 0.1373,\n",
       " 0.113,\n",
       " 0.0541,\n",
       " 0.167,\n",
       " 0.167,\n",
       " 0.167,\n",
       " 0.0599,\n",
       " 0.085,\n",
       " 0.1366,\n",
       " 0.0799,\n",
       " 0.113,\n",
       " 0.167,\n",
       " 0.1373,\n",
       " 0.1373,\n",
       " 0.0541,\n",
       " 0.085,\n",
       " 0.1099,\n",
       " 0.113,\n",
       " 0.0799,\n",
       " 0.1366,\n",
       " 0.1373,\n",
       " 0.1366,\n",
       " 0.1373,\n",
       " 0.113,\n",
       " 0.167,\n",
       " 0.0599,\n",
       " 0.1099,\n",
       " 0.085,\n",
       " 0.0541,\n",
       " 0.0599,\n",
       " 0.167,\n",
       " 0.1099,\n",
       " 0.1099,\n",
       " 0.1366,\n",
       " 0.1099,\n",
       " 0.0799,\n",
       " 0.1373,\n",
       " 0.167,\n",
       " 0.1366,\n",
       " 0.167,\n",
       " 0.0799,\n",
       " 0.1099,\n",
       " 0.1373,\n",
       " 0.1366,\n",
       " 0.1099,\n",
       " 0.167,\n",
       " 0.1366,\n",
       " 0.1373,\n",
       " 0.167,\n",
       " 0.1099,\n",
       " 0.0799,\n",
       " 0.167,\n",
       " 0.085,\n",
       " 0.1366,\n",
       " 0.0599,\n",
       " 0.167,\n",
       " 0.1366,\n",
       " 0.0297,\n",
       " 0.1099,\n",
       " 0.167,\n",
       " 0.113,\n",
       " 0.167,\n",
       " 0.0297,\n",
       " 0.1373,\n",
       " 0.1099,\n",
       " 0.167,\n",
       " 0.1366,\n",
       " 0.1366,\n",
       " 0.167,\n",
       " 0.1099,\n",
       " 0.085,\n",
       " 0.1373,\n",
       " 0.113,\n",
       " 0.1366,\n",
       " 0.085,\n",
       " 0.0799,\n",
       " 0.167,\n",
       " 0.113,\n",
       " 0.167,\n",
       " 0.0599,\n",
       " 0.113,\n",
       " 0.0599,\n",
       " 0.1366,\n",
       " 0.167,\n",
       " 0.113,\n",
       " 0.0599,\n",
       " 0.1099,\n",
       " 0.0276,\n",
       " 0.167,\n",
       " 0.167,\n",
       " 0.1373,\n",
       " ...]"
      ]
     },
     "execution_count": 121,
     "metadata": {},
     "output_type": "execute_result"
    }
   ],
   "source": [
    "#possible_sums \n",
    "x = [2,3,4,5,6,7,8,9,10,11,12]\n",
    "y = [(sum_of_rolls == n).mean() for n in sum_of_rolls]\n",
    "y"
   ]
  },
  {
   "cell_type": "code",
   "execution_count": 123,
   "metadata": {},
   "outputs": [
    {
     "data": {
      "text/plain": [
       "array([ 6,  3,  8,  4, 10,  8,  7,  7, 10,  4])"
      ]
     },
     "execution_count": 123,
     "metadata": {},
     "output_type": "execute_result"
    }
   ],
   "source": [
    "sum_of_rolls[:10]"
   ]
  },
  {
   "cell_type": "code",
   "execution_count": 124,
   "metadata": {},
   "outputs": [
    {
     "data": {
      "text/plain": [
       "[0.1366, 0.0599, 0.1373, 0.085, 0.0799, 0.1373, 0.167, 0.167, 0.0799, 0.085]"
      ]
     },
     "execution_count": 124,
     "metadata": {},
     "output_type": "execute_result"
    }
   ],
   "source": [
    "y[:10]"
   ]
  },
  {
   "cell_type": "markdown",
   "metadata": {},
   "source": [
    "# Changing the odds of proability\n",
    "- setting our own probablitity"
   ]
  },
  {
   "cell_type": "code",
   "execution_count": 135,
   "metadata": {},
   "outputs": [
    {
     "data": {
      "text/plain": [
       "0.49689"
      ]
     },
     "execution_count": 135,
     "metadata": {},
     "output_type": "execute_result"
    }
   ],
   "source": [
    "outcome = [\"Heads\", \"Tails\"]\n",
    "rolls = np.random.choice(outcome, size = (10_000, 1), p = [0.55, 0.45])\n",
    "\n",
    "(flips == \"Heads\").mean()\n"
   ]
  },
  {
   "cell_type": "code",
   "execution_count": 137,
   "metadata": {},
   "outputs": [
    {
     "data": {
      "text/plain": [
       "array(['Tails', 'Heads', 'Tails', ..., 'Tails', 'Heads', 'Heads'],\n",
       "      dtype='<U5')"
      ]
     },
     "execution_count": 137,
     "metadata": {},
     "output_type": "execute_result"
    }
   ],
   "source": [
    "rolls = np.random.choice(outcome, size = (10_000, 2), p = [0.55, 0.45])\n",
    "flips"
   ]
  },
  {
   "cell_type": "code",
   "execution_count": 138,
   "metadata": {},
   "outputs": [
    {
     "data": {
      "text/plain": [
       "array([[0, 0],\n",
       "       [1, 1],\n",
       "       [1, 0],\n",
       "       ...,\n",
       "       [0, 1],\n",
       "       [1, 0],\n",
       "       [1, 1]])"
      ]
     },
     "execution_count": 138,
     "metadata": {},
     "output_type": "execute_result"
    }
   ],
   "source": [
    "outcomes = [1, 0]\n",
    "flips = np.random.choice(outcomes, size=(100_000, 2), p=[0.55, 0.45])\n",
    "flips"
   ]
  },
  {
   "cell_type": "code",
   "execution_count": 142,
   "metadata": {},
   "outputs": [
    {
     "data": {
      "text/plain": [
       "100000"
      ]
     },
     "execution_count": 142,
     "metadata": {},
     "output_type": "execute_result"
    }
   ],
   "source": [
    "number_of_heads = flips.sum(axis=1)\n",
    "len(number_of_heads)"
   ]
  },
  {
   "cell_type": "code",
   "execution_count": 144,
   "metadata": {},
   "outputs": [
    {
     "data": {
      "text/plain": [
       "0.30413"
      ]
     },
     "execution_count": 144,
     "metadata": {},
     "output_type": "execute_result"
    }
   ],
   "source": [
    "# crooked coin proablity to flip on heads.\n",
    "(number_of_heads == 2).mean()"
   ]
  },
  {
   "cell_type": "code",
   "execution_count": 149,
   "metadata": {},
   "outputs": [
    {
     "data": {
      "text/plain": [
       "0.25"
      ]
     },
     "execution_count": 149,
     "metadata": {},
     "output_type": "execute_result"
    }
   ],
   "source": [
    "# fair coin number of times flip on heads\n",
    "outcomes = [1, 0]\n",
    "flips = np.random.choice(outcomes, size = (100_000, 2))\n",
    "num_of_heads = flips.sum(axis=1)\n",
    "(num_of_heads == 2).mean().round(2)"
   ]
  },
  {
   "cell_type": "code",
   "execution_count": 150,
   "metadata": {},
   "outputs": [],
   "source": [
    "# lets add bolean logic to probabilities\n",
    "np.random.normal?"
   ]
  },
  {
   "cell_type": "code",
   "execution_count": 151,
   "metadata": {},
   "outputs": [
    {
     "data": {
      "text/plain": [
       "array([92, 79, 38, ..., 63, 81, 55])"
      ]
     },
     "execution_count": 151,
     "metadata": {},
     "output_type": "execute_result"
    }
   ],
   "source": [
    "# Lets say we have an average of 0 and a std of 20\n",
    "numbers = np.random.randint(-50, 100, 100_000)\n",
    "numbers"
   ]
  },
  {
   "cell_type": "code",
   "execution_count": 152,
   "metadata": {},
   "outputs": [
    {
     "data": {
      "text/plain": [
       "0.33353"
      ]
     },
     "execution_count": 152,
     "metadata": {},
     "output_type": "execute_result"
    }
   ],
   "source": [
    "# What is the proabilitiy that any numbaer is negative?\n",
    "(numbers < 0).mean()"
   ]
  },
  {
   "cell_type": "code",
   "execution_count": 159,
   "metadata": {},
   "outputs": [
    {
     "ename": "ValueError",
     "evalue": "The truth value of an array with more than one element is ambiguous. Use a.any() or a.all()",
     "output_type": "error",
     "traceback": [
      "\u001b[0;31m---------------------------------------------------------------------------\u001b[0m",
      "\u001b[0;31mValueError\u001b[0m                                Traceback (most recent call last)",
      "\u001b[0;32m<ipython-input-159-88457600ae6b>\u001b[0m in \u001b[0;36m<module>\u001b[0;34m\u001b[0m\n\u001b[1;32m      1\u001b[0m \u001b[0;31m# what is the proability that the number is odd?\u001b[0m\u001b[0;34m\u001b[0m\u001b[0;34m\u001b[0m\u001b[0;34m\u001b[0m\u001b[0m\n\u001b[1;32m      2\u001b[0m \u001b[0;34m\u001b[0m\u001b[0m\n\u001b[0;32m----> 3\u001b[0;31m \u001b[0;34m(\u001b[0m\u001b[0mnumbers\u001b[0m \u001b[0;34m%\u001b[0m \u001b[0;36m2\u001b[0m \u001b[0;34m!=\u001b[0m \u001b[0;36m0\u001b[0m \u001b[0;34m&\u001b[0m \u001b[0mnumbers\u001b[0m \u001b[0;34m<\u001b[0m \u001b[0;36m0\u001b[0m\u001b[0;34m)\u001b[0m\u001b[0;34m.\u001b[0m\u001b[0mmean\u001b[0m\u001b[0;34m(\u001b[0m\u001b[0;34m)\u001b[0m\u001b[0;34m\u001b[0m\u001b[0;34m\u001b[0m\u001b[0m\n\u001b[0m",
      "\u001b[0;31mValueError\u001b[0m: The truth value of an array with more than one element is ambiguous. Use a.any() or a.all()"
     ]
    }
   ],
   "source": [
    "# what is the proability that the number is odd?\n",
    "(numbers % 2 != 0).mean()"
   ]
  },
  {
   "cell_type": "code",
   "execution_count": 161,
   "metadata": {},
   "outputs": [],
   "source": [
    "# negative and odd\n",
    "negatives = (numbers < 0)\n",
    "odds = (numbers % 2 != 0)"
   ]
  },
  {
   "cell_type": "code",
   "execution_count": 163,
   "metadata": {},
   "outputs": [
    {
     "data": {
      "text/plain": [
       "0.16625"
      ]
     },
     "execution_count": 163,
     "metadata": {},
     "output_type": "execute_result"
    }
   ],
   "source": [
    "(odds & negatives).mean()"
   ]
  },
  {
   "cell_type": "code",
   "execution_count": 165,
   "metadata": {},
   "outputs": [
    {
     "data": {
      "text/plain": [
       "0.66735"
      ]
     },
     "execution_count": 165,
     "metadata": {},
     "output_type": "execute_result"
    }
   ],
   "source": [
    "(odds | negatives).mean() # This is an OR operator | # gives more outcomes beacuse OR expands our options "
   ]
  },
  {
   "cell_type": "code",
   "execution_count": 168,
   "metadata": {},
   "outputs": [
    {
     "data": {
      "text/plain": [
       "(array([5, 1, 3, ..., 6, 2, 1]), array([1, 6, 5, ..., 3, 5, 2]))"
      ]
     },
     "execution_count": 168,
     "metadata": {},
     "output_type": "execute_result"
    }
   ],
   "source": [
    "# rolling two dice as a time, prob of rolling an odd and then an even? \n",
    "\n",
    "first_die = np.random.choice([1,2,3,4,5,6], size = 100_000)\n",
    "secound_die = np.random.choice([1,2,3,4,5,6], size = 100_000)\n",
    "\n",
    "first_die, secound_die"
   ]
  },
  {
   "cell_type": "code",
   "execution_count": 170,
   "metadata": {},
   "outputs": [],
   "source": [
    "# we need to rep the results of the first die as an array of booleans.\n",
    "first_odd = (first_die %2!=0)"
   ]
  },
  {
   "cell_type": "code",
   "execution_count": 171,
   "metadata": {},
   "outputs": [],
   "source": [
    "secound_even = (secound_die%2==0)"
   ]
  },
  {
   "cell_type": "code",
   "execution_count": 173,
   "metadata": {},
   "outputs": [
    {
     "data": {
      "text/plain": [
       "array([False,  True, False, ..., False, False,  True])"
      ]
     },
     "execution_count": 173,
     "metadata": {},
     "output_type": "execute_result"
    }
   ],
   "source": [
    "first_odd_secound_even = (first_odd & secound_even)\n",
    "first_odd_secound_even"
   ]
  },
  {
   "cell_type": "code",
   "execution_count": 174,
   "metadata": {},
   "outputs": [
    {
     "data": {
      "text/plain": [
       "0.25019"
      ]
     },
     "execution_count": 174,
     "metadata": {},
     "output_type": "execute_result"
    }
   ],
   "source": [
    "first_odd_secound_even.mean()"
   ]
  },
  {
   "cell_type": "code",
   "execution_count": 177,
   "metadata": {},
   "outputs": [
    {
     "data": {
      "text/plain": [
       "0.25"
      ]
     },
     "execution_count": 177,
     "metadata": {},
     "output_type": "execute_result"
    }
   ],
   "source": [
    "Theroetical = .5*.5\n",
    "Theroetical"
   ]
  },
  {
   "cell_type": "markdown",
   "metadata": {},
   "source": [
    "\n"
   ]
  },
  {
   "cell_type": "code",
   "execution_count": null,
   "metadata": {},
   "outputs": [],
   "source": []
  }
 ],
 "metadata": {
  "kernelspec": {
   "display_name": "Python 3",
   "language": "python",
   "name": "python3"
  },
  "language_info": {
   "codemirror_mode": {
    "name": "ipython",
    "version": 3
   },
   "file_extension": ".py",
   "mimetype": "text/x-python",
   "name": "python",
   "nbconvert_exporter": "python",
   "pygments_lexer": "ipython3",
   "version": "3.8.5"
  }
 },
 "nbformat": 4,
 "nbformat_minor": 4
}
