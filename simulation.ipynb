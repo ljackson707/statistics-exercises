{
 "cells": [
  {
   "cell_type": "code",
   "execution_count": 165,
   "metadata": {},
   "outputs": [],
   "source": [
    "\n",
    "from pydataset import data\n",
    "from math import sqrt\n",
    "import pandas as pd\n",
    "import numpy as np\n",
    "import scipy.stats "
   ]
  },
  {
   "cell_type": "code",
   "execution_count": 23,
   "metadata": {},
   "outputs": [
    {
     "data": {
      "text/plain": [
       "(array([2, 2, 3, ..., 3, 4, 6]), array([4, 5, 1, ..., 5, 4, 5]))"
      ]
     },
     "execution_count": 23,
     "metadata": {},
     "output_type": "execute_result"
    }
   ],
   "source": [
    "#1) How likely is it that you roll doubles when rolling two dice?\n",
    "first_die = np.random.choice([1,2,3,4,5,6], size = 100_000)\n",
    "secound_die = np.random.choice([1,2,3,4,5,6], size = 100_000)\n",
    "first_die, secound_die\n"
   ]
  },
  {
   "cell_type": "code",
   "execution_count": 24,
   "metadata": {},
   "outputs": [
    {
     "data": {
      "text/plain": [
       "array([False, False, False, ..., False,  True, False])"
      ]
     },
     "execution_count": 24,
     "metadata": {},
     "output_type": "execute_result"
    }
   ],
   "source": [
    "first_die == secound_die"
   ]
  },
  {
   "cell_type": "code",
   "execution_count": 25,
   "metadata": {},
   "outputs": [
    {
     "data": {
      "text/plain": [
       "0.16695"
      ]
     },
     "execution_count": 25,
     "metadata": {},
     "output_type": "execute_result"
    }
   ],
   "source": [
    "(first_die == secound_die).mean() # Probability of rolling doubles with two die = .16695"
   ]
  },
  {
   "cell_type": "code",
   "execution_count": 44,
   "metadata": {},
   "outputs": [
    {
     "data": {
      "text/plain": [
       "0.218875"
      ]
     },
     "execution_count": 44,
     "metadata": {},
     "output_type": "execute_result"
    }
   ],
   "source": [
    "#2) If you flip 8 coins, what is the probability of getting exactly 3 heads? \n",
    "outcomes = [1, 0]\n",
    "n_simulations = 1_000_000\n",
    "n_trials = 8  \n",
    "flips = np.random.choice(outcomes, size =(n_simulations, n_trials))\n",
    "flips\n",
    "\n",
    "sum_of_flips = flips.sum(axis=1)\n",
    "(sum_of_flips == 3).mean() "
   ]
  },
  {
   "cell_type": "code",
   "execution_count": 45,
   "metadata": {},
   "outputs": [
    {
     "data": {
      "text/plain": [
       "0.63633"
      ]
     },
     "execution_count": 45,
     "metadata": {},
     "output_type": "execute_result"
    }
   ],
   "source": [
    "#A) What is the probability of getting more than 3 heads?\n",
    "(sum_of_flips > 3).mean() "
   ]
  },
  {
   "cell_type": "code",
   "execution_count": 63,
   "metadata": {},
   "outputs": [
    {
     "data": {
      "text/plain": [
       "0.4295"
      ]
     },
     "execution_count": 63,
     "metadata": {},
     "output_type": "execute_result"
    }
   ],
   "source": [
    "#3) There are approximitely 3 web development cohorts for every 1 data science cohort at Codeup. \n",
    "# Assuming that Codeup randomly selects an alumni to put on a billboard, \n",
    "# what are the odds that the two billboards I drive past both have data science students on them?\n",
    "prob_of_data = .34\n",
    "prob_of_web = .66\n",
    "\n",
    "# data = 1\n",
    "# web = 2\n",
    "outcome = [1, 2]\n",
    "\n",
    "billboard = np.random.choice(outcome, size = (10_000, 2), p = [.34, .66])\n",
    "sum_of_billboard = billboard.sum(axis=1)\n",
    "(sum_of_billboard == 4).mean()"
   ]
  },
  {
   "cell_type": "code",
   "execution_count": null,
   "metadata": {},
   "outputs": [],
   "source": [
    "#4) Codeup students buy, on average, 3 poptart packages (+- 1.5) a day from the snack vending machine. \n",
    "# If on monday the machine is restocked with 17 poptart packages, \n",
    "# how likely is it that I will be able to buy some poptarts on Friday afternoon?\n",
    "\n",
    "Look into np.random.normal()"
   ]
  },
  {
   "cell_type": "code",
   "execution_count": 193,
   "metadata": {},
   "outputs": [
    {
     "data": {
      "text/plain": [
       "0.0668"
      ]
     },
     "execution_count": 193,
     "metadata": {},
     "output_type": "execute_result"
    }
   ],
   "source": [
    "#5) Compare Heights\n",
    "\n",
    "    #Men have an average height of 178 cm and standard deviation of 8cm.\n",
    "    #Women have a mean of 170, sd = 6cm.\n",
    "    #If a man and woman are chosen at random, P(woman taller than man)?\n",
    "\n",
    "Men_height = scipy.stats.norm.cdf( 178, 8)\n",
    "Woman_height = scipy.stats.norm(170, 6)\n",
    "\n",
    "prob_woman_taller_than_man = scipy.stats.norm.sf(179,170,6)\n",
    "\n",
    "prob_woman_taller_than_man.round(4)\n"
   ]
  },
  {
   "cell_type": "code",
   "execution_count": 280,
   "metadata": {},
   "outputs": [
    {
     "data": {
      "text/plain": [
       "0.02"
      ]
     },
     "execution_count": 280,
     "metadata": {},
     "output_type": "execute_result"
    }
   ],
   "source": [
    "#6) When installing anaconda on a student's computer, there's a 1 in 250 #\n",
    "#chance that the download is corrupted and the installation fails. \n",
    "#What are the odds that after having 50 students download anaconda, no one has an installation issue? 100 students?\n",
    "\n",
    "# 99.6 % percent will not have issues\n",
    "issue = 1\n",
    "no_issue = 0 \n",
    "outcomes = [1, 0]\n",
    "number_of_simulations = 50\n",
    "prob_of_I = np.random.choice(outcomes, size = number_of_simulations, p =[.004, .996])\n",
    "\n",
    "prob_of_I.mean().round(7)"
   ]
  },
  {
   "cell_type": "code",
   "execution_count": 282,
   "metadata": {},
   "outputs": [
    {
     "data": {
      "text/plain": [
       "0.0066667"
      ]
     },
     "execution_count": 282,
     "metadata": {},
     "output_type": "execute_result"
    }
   ],
   "source": [
    "#A) What is the probability that we observe an installation issue within the first 150 students that download anaconda?\n",
    "issue = 1\n",
    "no_issue = 0 \n",
    "outcomes = [1, 0]\n",
    "number_of_simulations = 150\n",
    "prob_of_I = np.random.choice(outcomes, size = number_of_simulations, p =[.004, .996])\n",
    "\n",
    "prob_of_I.mean().round(7)"
   ]
  },
  {
   "cell_type": "code",
   "execution_count": 284,
   "metadata": {},
   "outputs": [
    {
     "data": {
      "text/plain": [
       "0.0022222"
      ]
     },
     "execution_count": 284,
     "metadata": {},
     "output_type": "execute_result"
    }
   ],
   "source": [
    "#B) How likely is it that 450 students all download anaconda without an issue?\n",
    "issue = 1\n",
    "no_issue = 0 \n",
    "outcomes = [1, 0]\n",
    "number_of_simulations = 450\n",
    "prob_of_I = np.random.choice(outcomes, size = number_of_simulations, p =[.004, .996])\n",
    "\n",
    "prob_of_I.mean().round(7)"
   ]
  },
  {
   "cell_type": "code",
   "execution_count": null,
   "metadata": {},
   "outputs": [],
   "source": [
    "#C)"
   ]
  },
  {
   "cell_type": "code",
   "execution_count": 227,
   "metadata": {},
   "outputs": [],
   "source": [
    "#7) There's a 70% chance on any given day that there will be at least one food truck at Travis Park. \n",
    "# However, you haven't seen a food truck there in 3 days. How unlikely is this?\n",
    "\n",
    "#How likely is it that a food truck will show up sometime this week?\n"
   ]
  },
  {
   "cell_type": "code",
   "execution_count": 153,
   "metadata": {},
   "outputs": [
    {
     "data": {
      "text/plain": [
       "0.49949565217391306"
      ]
     },
     "execution_count": 153,
     "metadata": {},
     "output_type": "execute_result"
    }
   ],
   "source": [
    "#8) If 23 people are in the same room, what are the odds that two of them share a birthday? \n",
    "outcomes = [1, 0]\n",
    "n_simulations = 10_000 # number of combinations for same birth days(Birthday Paradox)\n",
    "n_trials = 23\n",
    "combo = np.random.choice(outcomes, size =(n_simulations, n_trials))\n",
    "combo.mean()\n",
    "\n",
    "# What if it's 20 people? 40?"
   ]
  },
  {
   "cell_type": "code",
   "execution_count": 159,
   "metadata": {},
   "outputs": [
    {
     "data": {
      "text/plain": [
       "0.49926"
      ]
     },
     "execution_count": 159,
     "metadata": {},
     "output_type": "execute_result"
    }
   ],
   "source": [
    "outcomes = [1, 0]\n",
    "n_simulations = 10_000 # number of combinations \n",
    "n_trials = 20\n",
    "combo = np.random.choice(outcomes, size =(n_simulations, n_trials))\n",
    "combo.mean()"
   ]
  },
  {
   "cell_type": "code",
   "execution_count": 163,
   "metadata": {},
   "outputs": [
    {
     "data": {
      "text/plain": [
       "0.5007475"
      ]
     },
     "execution_count": 163,
     "metadata": {},
     "output_type": "execute_result"
    }
   ],
   "source": [
    "outcomes = [1, 0]\n",
    "n_simulations = 10_000 # number of combinations \n",
    "n_trials = 40\n",
    "combo = np.random.choice(outcomes, size =(n_simulations, n_trials))\n",
    "combo.mean()"
   ]
  },
  {
   "cell_type": "code",
   "execution_count": null,
   "metadata": {},
   "outputs": [],
   "source": []
  }
 ],
 "metadata": {
  "kernelspec": {
   "display_name": "Python 3",
   "language": "python",
   "name": "python3"
  },
  "language_info": {
   "codemirror_mode": {
    "name": "ipython",
    "version": 3
   },
   "file_extension": ".py",
   "mimetype": "text/x-python",
   "name": "python",
   "nbconvert_exporter": "python",
   "pygments_lexer": "ipython3",
   "version": "3.8.5"
  }
 },
 "nbformat": 4,
 "nbformat_minor": 4
}
