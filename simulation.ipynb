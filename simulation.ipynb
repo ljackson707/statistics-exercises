{
 "cells": [
  {
   "cell_type": "code",
   "execution_count": 36,
   "metadata": {},
   "outputs": [],
   "source": [
    "\n",
    "from pydataset import data\n",
    "from math import sqrt\n",
    "import pandas as pd\n",
    "import numpy as np\n",
    "import scipy.stats\n",
    "np.random.seed(1349)"
   ]
  },
  {
   "cell_type": "code",
   "execution_count": 42,
   "metadata": {},
   "outputs": [
    {
     "data": {
      "text/plain": [
       "(array([1, 3, 2, ..., 6, 6, 4]), array([1, 2, 4, ..., 5, 5, 5]))"
      ]
     },
     "execution_count": 42,
     "metadata": {},
     "output_type": "execute_result"
    }
   ],
   "source": [
    "#1) How likely is it that you roll doubles when rolling two dice?\n",
    "first_die = np.random.choice([1,2,3,4,5,6], size = 1_000_000)\n",
    "secound_die = np.random.choice([1,2,3,4,5,6], size = 1_000_000)\n",
    "first_die, secound_die\n"
   ]
  },
  {
   "cell_type": "code",
   "execution_count": 43,
   "metadata": {},
   "outputs": [
    {
     "data": {
      "text/plain": [
       "array([ True, False, False, ..., False, False, False])"
      ]
     },
     "execution_count": 43,
     "metadata": {},
     "output_type": "execute_result"
    }
   ],
   "source": [
    "first_die == secound_die"
   ]
  },
  {
   "cell_type": "code",
   "execution_count": 46,
   "metadata": {},
   "outputs": [
    {
     "data": {
      "text/plain": [
       "0.166443"
      ]
     },
     "execution_count": 46,
     "metadata": {},
     "output_type": "execute_result"
    }
   ],
   "source": [
    "(first_die == secound_die).mean() # Probability of rolling doubles with two die = .16695"
   ]
  },
  {
   "cell_type": "code",
   "execution_count": 59,
   "metadata": {},
   "outputs": [
    {
     "data": {
      "text/plain": [
       "0.218966"
      ]
     },
     "execution_count": 59,
     "metadata": {},
     "output_type": "execute_result"
    }
   ],
   "source": [
    "#2) If you flip 8 coins, what is the probability of getting exactly 3 heads? \n",
    "n_simulations = 1_000_000\n",
    "n_trials = 8\n",
    "heads = 1\n",
    "tails = 0\n",
    "flips = np.random.choice([heads, tails], size =(n_simulations, n_trials))\n",
    "flips\n",
    "\n",
    "sum_of_flips = flips.sum(axis=1)\n",
    "(sum_of_flips == 3).mean()"
   ]
  },
  {
   "cell_type": "code",
   "execution_count": 64,
   "metadata": {},
   "outputs": [
    {
     "data": {
      "text/plain": [
       "0.855593"
      ]
     },
     "execution_count": 64,
     "metadata": {},
     "output_type": "execute_result"
    }
   ],
   "source": [
    "#A) What is the probability of getting more than 3 heads?\n",
    "(sum_of_flips >= 3).mean() "
   ]
  },
  {
   "cell_type": "code",
   "execution_count": 71,
   "metadata": {},
   "outputs": [
    {
     "data": {
      "text/plain": [
       "0.062336"
      ]
     },
     "execution_count": 71,
     "metadata": {},
     "output_type": "execute_result"
    }
   ],
   "source": [
    "#3) There are approximitely 3 web development cohorts for every 1 data science cohort at Codeup. \n",
    "# Assuming that Codeup randomly selects an alumni to put on a billboard, \n",
    "# what are the odds that the two billboards I drive past both have data science students on them?\n",
    "sim = 1_000_000\n",
    "trials = 2\n",
    "data = 1\n",
    "web = 0\n",
    "commutes = np.random.choice ([data, web], size=(sim, trials), p=[0.25, 0.75]) \n",
    "# 1/4 proablity to see a data billboard\n",
    "prob = (commutes.sum(axis=1) == 2).mean()\n",
    "# checks if both are data 1+1 \n",
    "prob"
   ]
  },
  {
   "cell_type": "code",
   "execution_count": 76,
   "metadata": {},
   "outputs": [
    {
     "data": {
      "text/plain": [
       "0.0625"
      ]
     },
     "execution_count": 76,
     "metadata": {},
     "output_type": "execute_result"
    }
   ],
   "source": [
    "Theoretical = (1/4) * (1/4)\n",
    "Theoretical"
   ]
  },
  {
   "cell_type": "code",
   "execution_count": 99,
   "metadata": {},
   "outputs": [
    {
     "data": {
      "text/plain": [
       "array([[2.88729331, 4.86938208, 3.31869837, 5.41707691, 1.12987762],\n",
       "       [3.29106153, 2.78374806, 0.68620314, 2.53444722, 2.71206111],\n",
       "       [4.91300579, 1.55279486, 2.72546567, 2.2506544 , 0.18974813],\n",
       "       ...,\n",
       "       [3.42686683, 2.41180536, 3.95129704, 0.72946599, 0.35350001],\n",
       "       [5.93073367, 2.92459748, 3.9518339 , 2.2075249 , 4.54062255],\n",
       "       [2.11073589, 2.6591559 , 3.07081125, 1.99630841, 2.80606817]])"
      ]
     },
     "execution_count": 99,
     "metadata": {},
     "output_type": "execute_result"
    }
   ],
   "source": [
    "#4) Codeup students buy, on average, 3 poptart packages (+- 1.5) a day from the snack vending machine. \n",
    "# If on monday the machine is restocked with 17 poptart packages, \n",
    "# how likely is it that I will be able to buy some poptarts on Friday afternoon?\n",
    "avg_pop = 3 \n",
    "pop_std = 1.5\n",
    "sim = 1_000_000\n",
    "trials = 5\n",
    "simulation = np.random.normal(avg_pop, pop_std, size=(sim, trials)) \n",
    "simulation"
   ]
  },
  {
   "cell_type": "code",
   "execution_count": 101,
   "metadata": {},
   "outputs": [
    {
     "data": {
      "text/plain": [
       "0.724136"
      ]
     },
     "execution_count": 101,
     "metadata": {},
     "output_type": "execute_result"
    }
   ],
   "source": [
    "probablity= (simulation.sum(axis=1) < 17).mean()\n",
    "probablity"
   ]
  },
  {
   "cell_type": "code",
   "execution_count": 112,
   "metadata": {},
   "outputs": [],
   "source": [
    "#5) Compare Heights\n",
    "\n",
    "    #Men have an average height of 178 cm and standard deviation of 8cm.\n",
    "    #Women have a mean of 170, sd = 6cm.\n",
    "    #If a man and woman are chosen at random, P(woman taller than man)?"
   ]
  },
  {
   "cell_type": "code",
   "execution_count": 110,
   "metadata": {},
   "outputs": [
    {
     "data": {
      "text/plain": [
       "0.211511"
      ]
     },
     "execution_count": 110,
     "metadata": {},
     "output_type": "execute_result"
    }
   ],
   "source": [
    "men = 178\n",
    "mstd = 8\n",
    "women = 170\n",
    "wstd = 6\n",
    "\n",
    "s_men = np.random.normal(men, mstd, 1_000_000)\n",
    "s_men\n",
    "\n",
    "s_women = np.random.normal(women, wstd, 1_000_000)\n",
    "s_women\n",
    "\n",
    "calculated_prob = (s_women > s_men).mean()\n",
    "calculated_prob"
   ]
  },
  {
   "cell_type": "code",
   "execution_count": 117,
   "metadata": {},
   "outputs": [
    {
     "data": {
      "text/plain": [
       "0.18189"
      ]
     },
     "execution_count": 117,
     "metadata": {},
     "output_type": "execute_result"
    }
   ],
   "source": [
    "#6) When installing anaconda on a student's computer, there's a 1 in 250 #\n",
    "#chance that the download is corrupted and the installation fails. \n",
    "#What are the odds that after having 50 students download anaconda, no one has an installation issue? 100 students?\n",
    "\n",
    "# 99.6 % percent will not have issues\n",
    "sim = 1_000_000\n",
    "trials = 50 # number of students\n",
    "fail = 1\n",
    "success = 0\n",
    "#1/250 = 0.004 prob\n",
    "simulation = np.random.choice([fail, success], size = (sim, trials), p=[0.004, 0.996])\n",
    "\n",
    "prob= (simulation.sum(axis=1) > 0 ).mean()\n",
    "prob"
   ]
  },
  {
   "cell_type": "code",
   "execution_count": 119,
   "metadata": {},
   "outputs": [
    {
     "data": {
      "text/plain": [
       "0.451982"
      ]
     },
     "execution_count": 119,
     "metadata": {},
     "output_type": "execute_result"
    }
   ],
   "source": [
    "#A) What is the probability that we observe an installation issue within the first 150 students that download anaconda?\n",
    "sim = 1_000_000\n",
    "trials = 150 # number of students\n",
    "fail = 1\n",
    "success = 0\n",
    "#1/250 = 0.004 prob\n",
    "simulation = np.random.choice([fail, success], size = (sim, trials), p=[0.004, 0.996])\n",
    "\n",
    "prob= (simulation.sum(axis=1) > 0 ).mean()\n",
    "prob"
   ]
  },
  {
   "cell_type": "code",
   "execution_count": 123,
   "metadata": {},
   "outputs": [
    {
     "data": {
      "text/plain": [
       "0.835913"
      ]
     },
     "execution_count": 123,
     "metadata": {},
     "output_type": "execute_result"
    }
   ],
   "source": [
    "#B) How likely is it that 450 students all download anaconda without an issue?\n",
    "sim = 1_000_000\n",
    "trials = 450 # number of students\n",
    "fail = 1\n",
    "success = 0\n",
    "#1/250 = 0.004 prob\n",
    "simulation = np.random.choice([fail, success], size = (sim, trials), p=[0.004, 0.996])\n",
    "\n",
    "prob= (simulation.sum(axis=1) > 0 ).mean()\n",
    "prob"
   ]
  },
  {
   "cell_type": "code",
   "execution_count": 121,
   "metadata": {},
   "outputs": [
    {
     "data": {
      "text/plain": [
       "0.330059"
      ]
     },
     "execution_count": 121,
     "metadata": {},
     "output_type": "execute_result"
    }
   ],
   "source": [
    "#C)\n",
    "sim = 1_000_000\n",
    "trials = 100 # number of students\n",
    "fail = 1\n",
    "success = 0\n",
    "#1/250 = 0.004 prob\n",
    "simulation = np.random.choice([fail, success], size = (sim, trials), p=[0.004, 0.996])\n",
    "\n",
    "prob= (simulation.sum(axis=1) > 0 ).mean()\n",
    "prob"
   ]
  },
  {
   "cell_type": "code",
   "execution_count": 127,
   "metadata": {},
   "outputs": [
    {
     "data": {
      "text/plain": [
       "0.002491"
      ]
     },
     "execution_count": 127,
     "metadata": {},
     "output_type": "execute_result"
    }
   ],
   "source": [
    "#7) There's a 70% chance on any given day that there will be at least one food truck at Travis Park. \n",
    "# However, you haven't seen a food truck there in 3 days. How unlikely is this?\n",
    "sim = 1_000_000\n",
    "trials = 5\n",
    "ft = 1\n",
    "noft = 0\n",
    "\n",
    "simulation = np.random.choice([ft, noft], size = (sim, trials), p = [0.70, 0.30]) \n",
    "\n",
    "prob = (simulation.sum(axis = 1) == 0).mean()\n",
    "prob # how unlikely it is to have three days no ft"
   ]
  },
  {
   "cell_type": "code",
   "execution_count": 128,
   "metadata": {},
   "outputs": [
    {
     "data": {
      "text/plain": [
       "0.026615"
      ]
     },
     "execution_count": 128,
     "metadata": {},
     "output_type": "execute_result"
    }
   ],
   "source": [
    "#A) How likely is it that a food truck will show up sometime this week?\n",
    "sim = 1_000_000\n",
    "trials = 3\n",
    "ft = 1\n",
    "noft = 0\n",
    "simulation = np.random.choice([ft, noft], size = (sim, trials), p = [0.70, 0.30])\n",
    "prob = (simulation.sum(axis = 1) == 0).mean()\n",
    "prob"
   ]
  },
  {
   "cell_type": "code",
   "execution_count": null,
   "metadata": {},
   "outputs": [],
   "source": [
    "#8) If 23 people are in the same room, what are the odds that two of them share a birthday? \n",
    "outcomes = range(0, 365)\n",
    "n_simulations = 1_000_000 # number of combinations for same birth days(Birthday Paradox)\n",
    "n_trials = 23\n",
    "simulation = np.random.choice(outcomes, size =(n_simulations, n_trials))\n",
    "len(simulation[0])\n",
    "combo_bday = [len(np.unique(simulation[n])) for n in range(0, n_simulations-1) if len(np.unique(simulation[n])) < 23]\n",
    "combo_bday.mean()"
   ]
  },
  {
   "cell_type": "code",
   "execution_count": null,
   "metadata": {},
   "outputs": [],
   "source": [
    "# What if it's 20 people? \n",
    "outcomes = range(0, 365)\n",
    "n_simulations = 1_000_000 # number of combinations \n",
    "n_trials = 20\n",
    "simulation = np.random.choice(outcomes, size =(n_simulations, n_trials))\n",
    "combo_bday = [len(np.unique(simulation[n])) for n in range(0, n_simulations-1) if len(np.unique(simulation[n])) < 20]\n",
    "simulation/len(combo_bday)"
   ]
  },
  {
   "cell_type": "code",
   "execution_count": 151,
   "metadata": {},
   "outputs": [
    {
     "ename": "AttributeError",
     "evalue": "'list' object has no attribute 'mean'",
     "output_type": "error",
     "traceback": [
      "\u001b[0;31m---------------------------------------------------------------------------\u001b[0m",
      "\u001b[0;31mAttributeError\u001b[0m                            Traceback (most recent call last)",
      "\u001b[0;32m<ipython-input-151-41dcc2c1e013>\u001b[0m in \u001b[0;36m<module>\u001b[0;34m\u001b[0m\n\u001b[1;32m      4\u001b[0m \u001b[0mn_trials\u001b[0m \u001b[0;34m=\u001b[0m \u001b[0;36m40\u001b[0m\u001b[0;34m\u001b[0m\u001b[0;34m\u001b[0m\u001b[0m\n\u001b[1;32m      5\u001b[0m \u001b[0msimulation\u001b[0m \u001b[0;34m=\u001b[0m \u001b[0mnp\u001b[0m\u001b[0;34m.\u001b[0m\u001b[0mrandom\u001b[0m\u001b[0;34m.\u001b[0m\u001b[0mchoice\u001b[0m\u001b[0;34m(\u001b[0m\u001b[0moutcomes\u001b[0m\u001b[0;34m,\u001b[0m \u001b[0msize\u001b[0m \u001b[0;34m=\u001b[0m\u001b[0;34m(\u001b[0m\u001b[0mn_simulations\u001b[0m\u001b[0;34m,\u001b[0m \u001b[0mn_trials\u001b[0m\u001b[0;34m)\u001b[0m\u001b[0;34m)\u001b[0m\u001b[0;34m\u001b[0m\u001b[0;34m\u001b[0m\u001b[0m\n\u001b[0;32m----> 6\u001b[0;31m \u001b[0mcombo_bday\u001b[0m\u001b[0;34m.\u001b[0m\u001b[0mmean\u001b[0m\u001b[0;34m(\u001b[0m\u001b[0;34m)\u001b[0m\u001b[0;34m\u001b[0m\u001b[0;34m\u001b[0m\u001b[0m\n\u001b[0m\u001b[1;32m      7\u001b[0m \u001b[0mcombo_bday\u001b[0m \u001b[0;34m=\u001b[0m \u001b[0;34m[\u001b[0m\u001b[0mlen\u001b[0m\u001b[0;34m(\u001b[0m\u001b[0mnp\u001b[0m\u001b[0;34m.\u001b[0m\u001b[0munique\u001b[0m\u001b[0;34m(\u001b[0m\u001b[0msimulation\u001b[0m\u001b[0;34m[\u001b[0m\u001b[0mn\u001b[0m\u001b[0;34m]\u001b[0m\u001b[0;34m)\u001b[0m\u001b[0;34m)\u001b[0m \u001b[0;32mfor\u001b[0m \u001b[0mn\u001b[0m \u001b[0;32min\u001b[0m \u001b[0mrange\u001b[0m\u001b[0;34m(\u001b[0m\u001b[0;36m0\u001b[0m\u001b[0;34m,\u001b[0m \u001b[0mn_simulations\u001b[0m\u001b[0;34m-\u001b[0m\u001b[0;36m1\u001b[0m\u001b[0;34m)\u001b[0m \u001b[0;32mif\u001b[0m \u001b[0mlen\u001b[0m\u001b[0;34m(\u001b[0m\u001b[0mnp\u001b[0m\u001b[0;34m.\u001b[0m\u001b[0munique\u001b[0m\u001b[0;34m(\u001b[0m\u001b[0msimulation\u001b[0m\u001b[0;34m[\u001b[0m\u001b[0mn\u001b[0m\u001b[0;34m]\u001b[0m\u001b[0;34m)\u001b[0m\u001b[0;34m)\u001b[0m \u001b[0;34m<\u001b[0m \u001b[0;36m40\u001b[0m\u001b[0;34m]\u001b[0m\u001b[0;34m\u001b[0m\u001b[0;34m\u001b[0m\u001b[0m\n\u001b[1;32m      8\u001b[0m \u001b[0mcombo_bday\u001b[0m\u001b[0;34m.\u001b[0m\u001b[0mmean\u001b[0m\u001b[0;34m(\u001b[0m\u001b[0;34m)\u001b[0m\u001b[0;34m\u001b[0m\u001b[0;34m\u001b[0m\u001b[0m\n",
      "\u001b[0;31mAttributeError\u001b[0m: 'list' object has no attribute 'mean'"
     ]
    }
   ],
   "source": [
    "# 40?\n",
    "outcomes = range(0, 365)\n",
    "n_simulations = 1_000_000 # number of combinations \n",
    "n_trials = 40\n",
    "simulation = np.random.choice(outcomes, size =(n_simulations, n_trials))\n",
    "combo_bday.mean()\n",
    "combo_bday = [len(np.unique(simulation[n])) for n in range(0, n_simulations-1) if len(np.unique(simulation[n])) < 40]\n",
    "combo_bday.mean()"
   ]
  },
  {
   "cell_type": "code",
   "execution_count": null,
   "metadata": {},
   "outputs": [],
   "source": []
  }
 ],
 "metadata": {
  "kernelspec": {
   "display_name": "Python 3",
   "language": "python",
   "name": "python3"
  },
  "language_info": {
   "codemirror_mode": {
    "name": "ipython",
    "version": 3
   },
   "file_extension": ".py",
   "mimetype": "text/x-python",
   "name": "python",
   "nbconvert_exporter": "python",
   "pygments_lexer": "ipython3",
   "version": "3.8.5"
  }
 },
 "nbformat": 4,
 "nbformat_minor": 4
}
